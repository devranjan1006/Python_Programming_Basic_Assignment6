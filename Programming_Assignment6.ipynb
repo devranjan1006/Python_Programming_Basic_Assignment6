{
 "cells": [
  {
   "cell_type": "markdown",
   "metadata": {},
   "source": [
    "# Python Programming Assignment 6"
   ]
  },
  {
   "cell_type": "markdown",
   "metadata": {},
   "source": [
    "1.\tWrite a Python Program to Display Fibonacci Sequence Using Recursion?\n"
   ]
  },
  {
   "cell_type": "code",
   "execution_count": 2,
   "metadata": {},
   "outputs": [
    {
     "name": "stdout",
     "output_type": "stream",
     "text": [
      "Enter the number of values to be displayed in the sequence: 5\n",
      "Fibonacci sequence:\n",
      "1\n",
      "1\n",
      "2\n",
      "3\n",
      "5\n"
     ]
    }
   ],
   "source": [
    "n = int(input('Enter the number of values to be displayed in the sequence: '))\n",
    "\n",
    "def fibo(n):\n",
    "   if n <= 1:\n",
    "       return n\n",
    "   else:\n",
    "       return(fibo(n-1) + fibo(n-2))\n",
    "\n",
    "\n",
    "print(\"Fibonacci sequence:\")\n",
    "for i in range(1,n+1):\n",
    "       print(fibo(i))"
   ]
  },
  {
   "cell_type": "markdown",
   "metadata": {},
   "source": [
    "2.\tWrite a Python Program to Find Factorial of Number Using Recursion?\n"
   ]
  },
  {
   "cell_type": "code",
   "execution_count": 7,
   "metadata": {},
   "outputs": [
    {
     "name": "stdout",
     "output_type": "stream",
     "text": [
      "Enter the number: 3\n",
      "Factorial of 3 is 6\n"
     ]
    }
   ],
   "source": [
    "n = int(input('Enter the number: '))\n",
    "\n",
    "def fact(n):\n",
    "   if n <= 1:\n",
    "       return 1\n",
    "   else:\n",
    "       return(n * fact(n-1))\n",
    "\n",
    "\n",
    "print(\"Factorial of {} is {}\".format(n,fact(n)))"
   ]
  },
  {
   "cell_type": "markdown",
   "metadata": {},
   "source": [
    "3.\tWrite a Python Program to calculate your Body Mass Index?\n"
   ]
  },
  {
   "cell_type": "code",
   "execution_count": 9,
   "metadata": {},
   "outputs": [
    {
     "name": "stdout",
     "output_type": "stream",
     "text": [
      "Enter weight in kg: 86\n",
      "Enter height in m: 1.76\n",
      "Body Mass index for a body with weight 86.0kg and height 1.76m is 27.763429752066116\n"
     ]
    }
   ],
   "source": [
    "wt = float(input('Enter weight in kg: '))\n",
    "ht = float(input('Enter height in m: '))\n",
    "bmi = wt / (ht ** 2)\n",
    "print('Body Mass index for a body with weight {}kg and height {}m is {}'.format(wt,ht,bmi))"
   ]
  },
  {
   "cell_type": "markdown",
   "metadata": {},
   "source": [
    "4.\tWrite a Python Program to calculate the natural logarithm of any number?\n"
   ]
  },
  {
   "cell_type": "code",
   "execution_count": 11,
   "metadata": {},
   "outputs": [
    {
     "name": "stdout",
     "output_type": "stream",
     "text": [
      "Enter the number: 1\n",
      "The natural logarithm of 1 is 0.0\n"
     ]
    }
   ],
   "source": [
    "import numpy as np\n",
    "n = int(input('Enter the number: '))\n",
    "nl = np.log(n)\n",
    "print('The natural logarithm of {} is {}'.format(n,nl))"
   ]
  },
  {
   "cell_type": "markdown",
   "metadata": {},
   "source": [
    "5.\tWrite a Python Program for cube sum of first n natural numbers?\n"
   ]
  },
  {
   "cell_type": "code",
   "execution_count": 14,
   "metadata": {},
   "outputs": [
    {
     "name": "stdout",
     "output_type": "stream",
     "text": [
      "Enter the count of numbers: 3\n",
      "The sum of cubes of first 3 natural numbers is 36\n"
     ]
    }
   ],
   "source": [
    "n = int(input('Enter the count of numbers: '))\n",
    "cube = list(i**3 for i in range(1,n+1))\n",
    "print('The sum of cubes of first {} natural numbers is {}'.format(n,sum(cube)))"
   ]
  }
 ],
 "metadata": {
  "kernelspec": {
   "display_name": "Python 3",
   "language": "python",
   "name": "python3"
  },
  "language_info": {
   "codemirror_mode": {
    "name": "ipython",
    "version": 3
   },
   "file_extension": ".py",
   "mimetype": "text/x-python",
   "name": "python",
   "nbconvert_exporter": "python",
   "pygments_lexer": "ipython3",
   "version": "3.8.5"
  }
 },
 "nbformat": 4,
 "nbformat_minor": 4
}
